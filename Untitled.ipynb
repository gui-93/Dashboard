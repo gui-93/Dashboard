{
 "cells": [
  {
   "cell_type": "code",
   "execution_count": 18,
   "id": "8b6c49d4-83ce-45b6-8865-5cee39ae6901",
   "metadata": {},
   "outputs": [
    {
     "name": "stdout",
     "output_type": "stream",
     "text": [
      "   Unnamed: 0                                             Título  Nota  \\\n",
      "0           1  Kit 10 Cuecas Boxer Lupo Cueca Box Algodão Mas...   4.5   \n",
      "1           2  Kit Com 10 Cuecas Boxer Algodão Sem Costura Zo...   4.7   \n",
      "2           3  Kit 10 Cuecas Boxer Mash Algodão Cotton Box Or...   4.6   \n",
      "3           4  Kit 3 Short Jeans Feminino Cintura Alta Barato...   4.4   \n",
      "4           5  Blusa + Calça Térmica Treino Futebol Criança I...   4.7   \n",
      "\n",
      "   N_Avaliações  Desconto            Marca         Material  \\\n",
      "0        3034.0      18.0             lupo          algodão   \n",
      "1        5682.0      20.0            zorba          algodão   \n",
      "2        1700.0      22.0             mash          algodão   \n",
      "3         507.0       9.0     menina linda             jean   \n",
      "4          58.0       5.0  roupa zero grau  termico unissex   \n",
      "\n",
      "                Gênero        Temporada  \\\n",
      "0            Masculino   outono/inverno   \n",
      "1            Masculino     não definido   \n",
      "2            Masculino  primavera/verão   \n",
      "3             Feminino  primavera/verão   \n",
      "4  Sem gênero infantil   outono/inverno   \n",
      "\n",
      "                                             Review1  ... Nota_MinMax  \\\n",
      "0  As cuecas são boas; porém você percebe na cost...  ...    0.814815   \n",
      "1  O tecido é bom e são confortáveis. Só que a nu...  ...    0.888889   \n",
      "2  As cuecas são boas, porém meu marido usa g e p...  ...    0.851852   \n",
      "3  Estou encantada com essas peças!.\\nOs shorts s...  ...    0.777778   \n",
      "4  Produto ótimo , mesmo após várias lavagens não...  ...    0.888889   \n",
      "\n",
      "  N_Avaliações_MinMax Desconto_MinMax  Preço_MinMax  Marca_Cod  Material_Cod  \\\n",
      "0            0.334178        0.213115      0.378585        463            25   \n",
      "1            0.625937        0.245902      0.322329        838            25   \n",
      "2            0.187197        0.278689      0.372617        494            25   \n",
      "3            0.055751        0.065574      0.201767        509            74   \n",
      "4            0.006280        0.000000      0.114508        669           166   \n",
      "\n",
      "   Temporada_Cod  Qtd_Vendidos_Cod  Marca_Freq  Material_Freq  \n",
      "0              3           10000.0    0.042292       0.176444  \n",
      "1              1           50000.0    0.009095       0.176444  \n",
      "2              7           10000.0    0.010914       0.176444  \n",
      "3              7            1000.0    0.010005       0.025466  \n",
      "4              3             100.0    0.002274       0.000910  \n",
      "\n",
      "[5 rows x 24 columns]\n"
     ]
    }
   ],
   "source": [
    "import pandas as pd\n",
    "\n",
    "# Carregar o arquivo CSV\n",
    "df = pd.read_csv('ecommerce_estatistica.csv')\n",
    "\n",
    "# Exibir as primeiras linhas do arquivo para verificar os dados\n",
    "print(df.head())\n"
   ]
  },
  {
   "cell_type": "code",
   "execution_count": 17,
   "id": "330caec1-7cb7-4a01-8377-d88822c467a8",
   "metadata": {},
   "outputs": [
    {
     "data": {
      "application/vnd.plotly.v1+json": {
       "config": {
        "plotlyServerURL": "https://plot.ly"
       },
       "data": [
        {
         "alignmentgroup": "True",
         "hovertemplate": "Qtd_Vendidos=%{x}<br>Gênero=%{y}<extra></extra>",
         "legendgroup": "",
         "marker": {
          "color": "#636efa",
          "pattern": {
           "shape": ""
          }
         },
         "name": "",
         "offsetgroup": "",
         "orientation": "v",
         "showlegend": false,
         "textposition": "auto",
         "type": "bar",
         "x": [
          "+10mil",
          "+50mil",
          "+10mil",
          "+1000",
          "+100",
          "+10mil",
          "+10mil",
          "+10mil",
          "+1000",
          "+1000",
          "+1000",
          "+1000",
          "+1000",
          "+1000",
          "+10mil",
          "+100",
          "+1000",
          "+10mil",
          "+1000",
          "+100",
          "+10mil",
          "+10mil",
          "+1000",
          "+1000",
          "+10mil",
          "+100",
          "+100",
          "+1000",
          "+1000",
          "+100",
          "+50mil",
          "+100",
          "+1000",
          "+1000",
          "+100",
          "+100",
          "+1000",
          "+10mil",
          "+100",
          "+1000",
          "+1000",
          "+100",
          "+50mil",
          "+1000",
          "+10mil",
          "+1000",
          "+1000",
          "+1000",
          "+100",
          "+10mil",
          "+1000",
          "+1000",
          "+1000",
          "+50",
          "+100",
          "+50",
          "+100",
          "+1000",
          "+100",
          "+50",
          "+100",
          "+5",
          "+100",
          "+100",
          "+100",
          "+1000",
          "+100",
          "+25",
          "+1000",
          "+1000",
          "+1000",
          "+100",
          "+1000",
          "+100",
          "+1000",
          "+100",
          "+1000",
          "+100",
          "+100",
          "+1000",
          "+1000",
          "+10mil",
          "+10mil",
          "+100",
          "+100",
          "+100",
          "+50",
          "+100",
          "+50",
          "+1000",
          "+10mil",
          "+50mil",
          "+50",
          "+100",
          "+1000",
          "+10mil",
          "+1000",
          "+100",
          "+100",
          "+10mil",
          "+100",
          "+1000",
          "+100",
          "+1000",
          "+100",
          "+100",
          "+1000",
          "+10mil",
          "+100",
          "+25",
          "+100",
          "+100",
          "+100",
          "+10mil",
          "+1000",
          "+10mil",
          "+100",
          "+1000",
          "+1000",
          "+50",
          "+100",
          "+100",
          "+100",
          "+100",
          "+100",
          "+25",
          "+100",
          "+100",
          "+50",
          "+25",
          "+100",
          "+100",
          "+100",
          "+100",
          "+25",
          "+1000",
          "+1000",
          "+1000",
          "+25",
          "+10mil",
          "+1000",
          "+1000",
          "+100",
          "+100",
          "+10mil",
          "+10mil",
          "+50",
          "+100",
          "+10mil",
          "+50mil",
          "+1000",
          "+50",
          "+100",
          "+100",
          "+100",
          "+10mil",
          "+100",
          "+50",
          "+100",
          "+25",
          "+25",
          "+1000",
          "+100",
          "+10mil",
          "+1000",
          "+25",
          "+1000",
          "+1000",
          "+25",
          "+10mil",
          "+100",
          "+1000",
          "+1000",
          "+10mil",
          "+50",
          "+1000",
          "+1000",
          "+25",
          "+100",
          "+1000",
          "+100",
          "+50",
          "+50",
          "+100",
          "+50",
          "+5",
          "+100",
          "+100",
          "+50",
          "+1000",
          "+1000",
          "+1000",
          "+100",
          "+50",
          "+1000",
          "+100",
          "+1000",
          "+1000",
          "+1000",
          "+10mil",
          "+10mil",
          "+100",
          "+100",
          "+100",
          "+10mil",
          "+50mil",
          "+1000",
          "+100",
          "+1000",
          "+25",
          "+25",
          "+1000",
          "+10mil",
          "+50",
          "+100",
          "+1000",
          "+100",
          "+100",
          "+1000",
          "+1000",
          "+100",
          "+50",
          "+100",
          "+25",
          "+100",
          "+10mil",
          "+100",
          "+1000",
          "+100",
          "+1000",
          "+50",
          "+100",
          "+100",
          "+100",
          "+25",
          "+1000",
          "+100",
          "+25",
          "+100",
          "+100",
          "+1000",
          "+1000",
          "+100",
          "+10mil",
          "+1000",
          "+1000",
          "+100",
          "+100",
          "+100",
          "+25",
          "+1000",
          "+1000",
          "+1000",
          "+1000",
          "+100",
          "+1000",
          "+100",
          "+1000",
          "+10mil",
          "+10mil",
          "+50",
          "+50",
          "+1000",
          "+100",
          "+1000",
          "+10mil",
          "+50mil",
          "+100",
          "+1000",
          "+100",
          "+100",
          "+1000",
          "+10mil",
          "+1000",
          "+1000",
          "+100",
          "+100",
          "+1000",
          "+100",
          "+50",
          "+1000",
          "+1000",
          "+1000",
          "+100",
          "+1000",
          "+50",
          "+10mil",
          "+1000",
          "+50",
          "+10mil",
          "+100",
          "+50",
          "+100",
          "+100",
          "+25"
         ],
         "xaxis": "x",
         "y": [
          "Masculino",
          "Masculino",
          "Masculino",
          "Feminino",
          "Sem gênero infantil",
          "Masculino",
          "Masculino",
          "Masculino",
          "Masculino",
          "Feminino",
          "Sem gênero",
          "Sem gênero",
          "Masculino",
          "Meninos",
          "Masculino",
          "Masculino",
          "Masculino",
          "Feminino",
          "Masculino",
          "Masculino",
          "Feminino",
          "Masculino",
          "Feminino",
          "Feminino",
          "Masculino",
          "Masculino",
          "Feminino",
          "Feminino",
          "Masculino",
          "Masculino",
          "Masculino",
          "Masculino",
          "Masculino",
          "Sem gênero",
          "Feminino",
          "Masculino",
          "Masculino",
          "Masculino",
          "Feminino",
          "Feminino",
          "Masculino",
          "Feminino",
          "Feminino",
          "Feminino",
          "Masculino",
          "Masculino",
          "Feminino",
          "Masculino",
          "Masculino",
          "Masculino",
          "Sem gênero",
          "Feminino",
          "Masculino",
          "Feminino",
          "Feminino",
          "Masculino",
          "Masculino",
          "Masculino",
          "Feminino",
          "Sem gênero",
          "Feminino",
          "Masculino",
          "Feminino",
          "Feminino",
          "Masculino",
          "Feminino",
          "Feminino",
          "Masculino",
          "Feminino",
          "Masculino",
          "Sem gênero",
          "Meninas",
          "Feminino",
          "Feminino",
          "Feminino",
          "Sem gênero",
          "Feminino",
          "Masculino",
          "Feminino",
          "Masculino",
          "Sem gênero",
          "Masculino",
          "Masculino",
          "Masculino",
          "Masculino",
          "Sem gênero infantil",
          "Masculino",
          "Masculino",
          "Masculino",
          "Sem gênero",
          "Masculino",
          "Masculino",
          "Masculino",
          "Feminino",
          "Sem gênero",
          "Masculino",
          "Feminino",
          "Feminino",
          "Feminino",
          "Masculino",
          "Meninos",
          "Feminino",
          "Feminino",
          "Feminino",
          "Masculino",
          "Meninos",
          "Feminino",
          "Masculino",
          "Feminino",
          "Masculino",
          "Meninas",
          "Feminino",
          "Masculino",
          "Masculino",
          "Feminino",
          "Feminino",
          "Feminino",
          "Masculino",
          "Feminino",
          "Masculino",
          "Unissex",
          "Feminino",
          "Feminino",
          "Masculino",
          "Sem gênero",
          "Meninos",
          "Masculino",
          "Feminino",
          "Feminino",
          "Feminino",
          "Feminino",
          "Feminino",
          "Masculino",
          "Bebês",
          "Meninos",
          "Feminino",
          "Masculino",
          "Sem gênero",
          "Feminino",
          "Masculino",
          "Masculino",
          "Sem gênero",
          "Feminino",
          "Feminino",
          "Masculino",
          "Masculino",
          "roupa para gordinha pluss P ao 52",
          "Feminino",
          "Masculino",
          "Masculino",
          "Sem gênero",
          "Feminino",
          "Meninos",
          "Feminino",
          "Feminino",
          "Masculino",
          "Feminino",
          "Masculino",
          "Sem gênero",
          "Feminino",
          "Meninos",
          "Feminino",
          "Masculino",
          "Masculino",
          "Masculino",
          "Feminino",
          "Feminino",
          "Feminino",
          "Masculino",
          "Masculino",
          "Feminino",
          "Feminino",
          "Masculino",
          "Masculino",
          "Masculino",
          "Feminino",
          "Feminino",
          "Feminino",
          "Masculino",
          "Masculino",
          "Meninos",
          "Masculino",
          "Masculino",
          "Feminino",
          "Masculino",
          "Feminino",
          "Feminino",
          "Masculino",
          "Masculino",
          "Feminino",
          "Masculino",
          "Sem gênero",
          "Feminino",
          "Masculino",
          "Meninos",
          "Feminino",
          "Masculino",
          "Sem gênero",
          "Sem gênero",
          "Masculino",
          "Masculino",
          "Feminino",
          "Feminino",
          "Feminino",
          "Masculino",
          "Masculino",
          "Sem gênero",
          "Feminino",
          "Masculino",
          "Feminino",
          "Feminino",
          "Feminino",
          "Masculino",
          "Feminino",
          "Feminino",
          "Bebês",
          "Feminino",
          "Feminino",
          "Feminino",
          "Feminino",
          "Sem gênero",
          "Feminino",
          "Sem gênero infantil",
          "Feminino",
          "Masculino",
          "Masculino",
          "Feminino",
          "Masculino",
          "Masculino",
          "Masculino",
          "Feminino",
          "Masculino",
          "Masculino",
          "Sem gênero",
          "Meninas",
          "Masculino",
          "Feminino",
          "Feminino",
          "Feminino",
          "Feminino",
          "Masculino",
          "Feminino",
          "Masculino",
          "Masculino",
          "Masculino",
          "Masculino",
          "Feminino",
          "Masculino",
          "Masculino",
          "Feminino",
          "Masculino",
          "Feminino",
          "Masculino",
          "Sem gênero",
          "Masculino",
          "Masculino",
          "Sem gênero",
          "Sem gênero",
          "Masculino",
          "Masculino",
          "Feminino",
          "Meninas",
          "Feminino",
          "Meninas",
          "Masculino",
          "Masculino",
          "Masculino",
          "Masculino",
          "Sem gênero",
          "Feminino",
          "Feminino",
          "Feminino",
          "Masculino",
          "Masculino",
          "Feminino",
          "Meninas",
          "Meninos",
          "Feminino",
          "Masculino",
          "Meninos",
          "Feminino",
          "Feminino",
          "Masculino",
          "Feminino",
          "Sem gênero infantil",
          "Feminino",
          "Masculino",
          "Masculino",
          "Masculino",
          "Masculino",
          "Meninos",
          "Feminino",
          "Meninos",
          "Masculino",
          "Feminino"
         ],
         "yaxis": "y"
        }
       ],
       "layout": {
        "autosize": true,
        "barmode": "relative",
        "legend": {
         "tracegroupgap": 0
        },
        "template": {
         "data": {
          "bar": [
           {
            "error_x": {
             "color": "#2a3f5f"
            },
            "error_y": {
             "color": "#2a3f5f"
            },
            "marker": {
             "line": {
              "color": "#E5ECF6",
              "width": 0.5
             },
             "pattern": {
              "fillmode": "overlay",
              "size": 10,
              "solidity": 0.2
             }
            },
            "type": "bar"
           }
          ],
          "barpolar": [
           {
            "marker": {
             "line": {
              "color": "#E5ECF6",
              "width": 0.5
             },
             "pattern": {
              "fillmode": "overlay",
              "size": 10,
              "solidity": 0.2
             }
            },
            "type": "barpolar"
           }
          ],
          "carpet": [
           {
            "aaxis": {
             "endlinecolor": "#2a3f5f",
             "gridcolor": "white",
             "linecolor": "white",
             "minorgridcolor": "white",
             "startlinecolor": "#2a3f5f"
            },
            "baxis": {
             "endlinecolor": "#2a3f5f",
             "gridcolor": "white",
             "linecolor": "white",
             "minorgridcolor": "white",
             "startlinecolor": "#2a3f5f"
            },
            "type": "carpet"
           }
          ],
          "choropleth": [
           {
            "colorbar": {
             "outlinewidth": 0,
             "ticks": ""
            },
            "type": "choropleth"
           }
          ],
          "contour": [
           {
            "colorbar": {
             "outlinewidth": 0,
             "ticks": ""
            },
            "colorscale": [
             [
              0,
              "#0d0887"
             ],
             [
              0.1111111111111111,
              "#46039f"
             ],
             [
              0.2222222222222222,
              "#7201a8"
             ],
             [
              0.3333333333333333,
              "#9c179e"
             ],
             [
              0.4444444444444444,
              "#bd3786"
             ],
             [
              0.5555555555555556,
              "#d8576b"
             ],
             [
              0.6666666666666666,
              "#ed7953"
             ],
             [
              0.7777777777777778,
              "#fb9f3a"
             ],
             [
              0.8888888888888888,
              "#fdca26"
             ],
             [
              1,
              "#f0f921"
             ]
            ],
            "type": "contour"
           }
          ],
          "contourcarpet": [
           {
            "colorbar": {
             "outlinewidth": 0,
             "ticks": ""
            },
            "type": "contourcarpet"
           }
          ],
          "heatmap": [
           {
            "colorbar": {
             "outlinewidth": 0,
             "ticks": ""
            },
            "colorscale": [
             [
              0,
              "#0d0887"
             ],
             [
              0.1111111111111111,
              "#46039f"
             ],
             [
              0.2222222222222222,
              "#7201a8"
             ],
             [
              0.3333333333333333,
              "#9c179e"
             ],
             [
              0.4444444444444444,
              "#bd3786"
             ],
             [
              0.5555555555555556,
              "#d8576b"
             ],
             [
              0.6666666666666666,
              "#ed7953"
             ],
             [
              0.7777777777777778,
              "#fb9f3a"
             ],
             [
              0.8888888888888888,
              "#fdca26"
             ],
             [
              1,
              "#f0f921"
             ]
            ],
            "type": "heatmap"
           }
          ],
          "heatmapgl": [
           {
            "colorbar": {
             "outlinewidth": 0,
             "ticks": ""
            },
            "colorscale": [
             [
              0,
              "#0d0887"
             ],
             [
              0.1111111111111111,
              "#46039f"
             ],
             [
              0.2222222222222222,
              "#7201a8"
             ],
             [
              0.3333333333333333,
              "#9c179e"
             ],
             [
              0.4444444444444444,
              "#bd3786"
             ],
             [
              0.5555555555555556,
              "#d8576b"
             ],
             [
              0.6666666666666666,
              "#ed7953"
             ],
             [
              0.7777777777777778,
              "#fb9f3a"
             ],
             [
              0.8888888888888888,
              "#fdca26"
             ],
             [
              1,
              "#f0f921"
             ]
            ],
            "type": "heatmapgl"
           }
          ],
          "histogram": [
           {
            "marker": {
             "pattern": {
              "fillmode": "overlay",
              "size": 10,
              "solidity": 0.2
             }
            },
            "type": "histogram"
           }
          ],
          "histogram2d": [
           {
            "colorbar": {
             "outlinewidth": 0,
             "ticks": ""
            },
            "colorscale": [
             [
              0,
              "#0d0887"
             ],
             [
              0.1111111111111111,
              "#46039f"
             ],
             [
              0.2222222222222222,
              "#7201a8"
             ],
             [
              0.3333333333333333,
              "#9c179e"
             ],
             [
              0.4444444444444444,
              "#bd3786"
             ],
             [
              0.5555555555555556,
              "#d8576b"
             ],
             [
              0.6666666666666666,
              "#ed7953"
             ],
             [
              0.7777777777777778,
              "#fb9f3a"
             ],
             [
              0.8888888888888888,
              "#fdca26"
             ],
             [
              1,
              "#f0f921"
             ]
            ],
            "type": "histogram2d"
           }
          ],
          "histogram2dcontour": [
           {
            "colorbar": {
             "outlinewidth": 0,
             "ticks": ""
            },
            "colorscale": [
             [
              0,
              "#0d0887"
             ],
             [
              0.1111111111111111,
              "#46039f"
             ],
             [
              0.2222222222222222,
              "#7201a8"
             ],
             [
              0.3333333333333333,
              "#9c179e"
             ],
             [
              0.4444444444444444,
              "#bd3786"
             ],
             [
              0.5555555555555556,
              "#d8576b"
             ],
             [
              0.6666666666666666,
              "#ed7953"
             ],
             [
              0.7777777777777778,
              "#fb9f3a"
             ],
             [
              0.8888888888888888,
              "#fdca26"
             ],
             [
              1,
              "#f0f921"
             ]
            ],
            "type": "histogram2dcontour"
           }
          ],
          "mesh3d": [
           {
            "colorbar": {
             "outlinewidth": 0,
             "ticks": ""
            },
            "type": "mesh3d"
           }
          ],
          "parcoords": [
           {
            "line": {
             "colorbar": {
              "outlinewidth": 0,
              "ticks": ""
             }
            },
            "type": "parcoords"
           }
          ],
          "pie": [
           {
            "automargin": true,
            "type": "pie"
           }
          ],
          "scatter": [
           {
            "fillpattern": {
             "fillmode": "overlay",
             "size": 10,
             "solidity": 0.2
            },
            "type": "scatter"
           }
          ],
          "scatter3d": [
           {
            "line": {
             "colorbar": {
              "outlinewidth": 0,
              "ticks": ""
             }
            },
            "marker": {
             "colorbar": {
              "outlinewidth": 0,
              "ticks": ""
             }
            },
            "type": "scatter3d"
           }
          ],
          "scattercarpet": [
           {
            "marker": {
             "colorbar": {
              "outlinewidth": 0,
              "ticks": ""
             }
            },
            "type": "scattercarpet"
           }
          ],
          "scattergeo": [
           {
            "marker": {
             "colorbar": {
              "outlinewidth": 0,
              "ticks": ""
             }
            },
            "type": "scattergeo"
           }
          ],
          "scattergl": [
           {
            "marker": {
             "colorbar": {
              "outlinewidth": 0,
              "ticks": ""
             }
            },
            "type": "scattergl"
           }
          ],
          "scattermapbox": [
           {
            "marker": {
             "colorbar": {
              "outlinewidth": 0,
              "ticks": ""
             }
            },
            "type": "scattermapbox"
           }
          ],
          "scatterpolar": [
           {
            "marker": {
             "colorbar": {
              "outlinewidth": 0,
              "ticks": ""
             }
            },
            "type": "scatterpolar"
           }
          ],
          "scatterpolargl": [
           {
            "marker": {
             "colorbar": {
              "outlinewidth": 0,
              "ticks": ""
             }
            },
            "type": "scatterpolargl"
           }
          ],
          "scatterternary": [
           {
            "marker": {
             "colorbar": {
              "outlinewidth": 0,
              "ticks": ""
             }
            },
            "type": "scatterternary"
           }
          ],
          "surface": [
           {
            "colorbar": {
             "outlinewidth": 0,
             "ticks": ""
            },
            "colorscale": [
             [
              0,
              "#0d0887"
             ],
             [
              0.1111111111111111,
              "#46039f"
             ],
             [
              0.2222222222222222,
              "#7201a8"
             ],
             [
              0.3333333333333333,
              "#9c179e"
             ],
             [
              0.4444444444444444,
              "#bd3786"
             ],
             [
              0.5555555555555556,
              "#d8576b"
             ],
             [
              0.6666666666666666,
              "#ed7953"
             ],
             [
              0.7777777777777778,
              "#fb9f3a"
             ],
             [
              0.8888888888888888,
              "#fdca26"
             ],
             [
              1,
              "#f0f921"
             ]
            ],
            "type": "surface"
           }
          ],
          "table": [
           {
            "cells": {
             "fill": {
              "color": "#EBF0F8"
             },
             "line": {
              "color": "white"
             }
            },
            "header": {
             "fill": {
              "color": "#C8D4E3"
             },
             "line": {
              "color": "white"
             }
            },
            "type": "table"
           }
          ]
         },
         "layout": {
          "annotationdefaults": {
           "arrowcolor": "#2a3f5f",
           "arrowhead": 0,
           "arrowwidth": 1
          },
          "autotypenumbers": "strict",
          "coloraxis": {
           "colorbar": {
            "outlinewidth": 0,
            "ticks": ""
           }
          },
          "colorscale": {
           "diverging": [
            [
             0,
             "#8e0152"
            ],
            [
             0.1,
             "#c51b7d"
            ],
            [
             0.2,
             "#de77ae"
            ],
            [
             0.3,
             "#f1b6da"
            ],
            [
             0.4,
             "#fde0ef"
            ],
            [
             0.5,
             "#f7f7f7"
            ],
            [
             0.6,
             "#e6f5d0"
            ],
            [
             0.7,
             "#b8e186"
            ],
            [
             0.8,
             "#7fbc41"
            ],
            [
             0.9,
             "#4d9221"
            ],
            [
             1,
             "#276419"
            ]
           ],
           "sequential": [
            [
             0,
             "#0d0887"
            ],
            [
             0.1111111111111111,
             "#46039f"
            ],
            [
             0.2222222222222222,
             "#7201a8"
            ],
            [
             0.3333333333333333,
             "#9c179e"
            ],
            [
             0.4444444444444444,
             "#bd3786"
            ],
            [
             0.5555555555555556,
             "#d8576b"
            ],
            [
             0.6666666666666666,
             "#ed7953"
            ],
            [
             0.7777777777777778,
             "#fb9f3a"
            ],
            [
             0.8888888888888888,
             "#fdca26"
            ],
            [
             1,
             "#f0f921"
            ]
           ],
           "sequentialminus": [
            [
             0,
             "#0d0887"
            ],
            [
             0.1111111111111111,
             "#46039f"
            ],
            [
             0.2222222222222222,
             "#7201a8"
            ],
            [
             0.3333333333333333,
             "#9c179e"
            ],
            [
             0.4444444444444444,
             "#bd3786"
            ],
            [
             0.5555555555555556,
             "#d8576b"
            ],
            [
             0.6666666666666666,
             "#ed7953"
            ],
            [
             0.7777777777777778,
             "#fb9f3a"
            ],
            [
             0.8888888888888888,
             "#fdca26"
            ],
            [
             1,
             "#f0f921"
            ]
           ]
          },
          "colorway": [
           "#636efa",
           "#EF553B",
           "#00cc96",
           "#ab63fa",
           "#FFA15A",
           "#19d3f3",
           "#FF6692",
           "#B6E880",
           "#FF97FF",
           "#FECB52"
          ],
          "font": {
           "color": "#2a3f5f"
          },
          "geo": {
           "bgcolor": "white",
           "lakecolor": "white",
           "landcolor": "#E5ECF6",
           "showlakes": true,
           "showland": true,
           "subunitcolor": "white"
          },
          "hoverlabel": {
           "align": "left"
          },
          "hovermode": "closest",
          "mapbox": {
           "style": "light"
          },
          "paper_bgcolor": "white",
          "plot_bgcolor": "#E5ECF6",
          "polar": {
           "angularaxis": {
            "gridcolor": "white",
            "linecolor": "white",
            "ticks": ""
           },
           "bgcolor": "#E5ECF6",
           "radialaxis": {
            "gridcolor": "white",
            "linecolor": "white",
            "ticks": ""
           }
          },
          "scene": {
           "xaxis": {
            "backgroundcolor": "#E5ECF6",
            "gridcolor": "white",
            "gridwidth": 2,
            "linecolor": "white",
            "showbackground": true,
            "ticks": "",
            "zerolinecolor": "white"
           },
           "yaxis": {
            "backgroundcolor": "#E5ECF6",
            "gridcolor": "white",
            "gridwidth": 2,
            "linecolor": "white",
            "showbackground": true,
            "ticks": "",
            "zerolinecolor": "white"
           },
           "zaxis": {
            "backgroundcolor": "#E5ECF6",
            "gridcolor": "white",
            "gridwidth": 2,
            "linecolor": "white",
            "showbackground": true,
            "ticks": "",
            "zerolinecolor": "white"
           }
          },
          "shapedefaults": {
           "line": {
            "color": "#2a3f5f"
           }
          },
          "ternary": {
           "aaxis": {
            "gridcolor": "white",
            "linecolor": "white",
            "ticks": ""
           },
           "baxis": {
            "gridcolor": "white",
            "linecolor": "white",
            "ticks": ""
           },
           "bgcolor": "#E5ECF6",
           "caxis": {
            "gridcolor": "white",
            "linecolor": "white",
            "ticks": ""
           }
          },
          "title": {
           "x": 0.05
          },
          "xaxis": {
           "automargin": true,
           "gridcolor": "white",
           "linecolor": "white",
           "ticks": "",
           "title": {
            "standoff": 15
           },
           "zerolinecolor": "white",
           "zerolinewidth": 2
          },
          "yaxis": {
           "automargin": true,
           "gridcolor": "white",
           "linecolor": "white",
           "ticks": "",
           "title": {
            "standoff": 15
           },
           "zerolinecolor": "white",
           "zerolinewidth": 2
          }
         }
        },
        "title": {
         "text": "Vendas por Marca"
        },
        "xaxis": {
         "anchor": "y",
         "autorange": false,
         "domain": [
          0,
          1
         ],
         "range": [
          -1.1908893709327548,
          5.809110629067245
         ],
         "title": {
          "text": "Qtd_Vendidos"
         },
         "type": "category"
        },
        "yaxis": {
         "anchor": "x",
         "autorange": true,
         "domain": [
          0,
          1
         ],
         "range": [
          -7.5,
          142.5
         ],
         "title": {
          "text": "Gênero"
         },
         "type": "category"
        }
       }
      },
      "image/png": "[encoded data removed]",
      "text/html": [
       "<div>                            <div id=\"43c4cbec-94ca-48c4-8a97-271e934f66c0\" class=\"plotly-graph-div\" style=\"height:525px; width:100%;\"></div>            <script type=\"text/javascript\">                require([\"plotly\"], function(Plotly) {                    window.PLOTLYENV=window.PLOTLYENV || {};                                    if (document.getElementById(\"43c4cbec-94ca-48c4-8a97-271e934f66c0\")) {                    Plotly.newPlot(                        \"43c4cbec-94ca-48c4-8a97-271e934f66c0\",                        [{\"alignmentgroup\":\"True\",\"hovertemplate\":\"Qtd_Vendidos=%{x}<br>G\\u00eanero=%{y}<extra></extra>\",\"legendgroup\":\"\",\"marker\":{\"color\":\"#636efa\",\"pattern\":{\"shape\":\"\"}},\"name\":\"\",\"offsetgroup\":\"\",\"orientation\":\"v\",\"showlegend\":false,\"textposition\":\"auto\",\"x\":[\"+10mil\",\"+50mil\",\"+10mil\",\"+1000\",\"+100\",\"+10mil\",\"+10mil\",\"+10mil\",\"+1000\",\"+1000\",\"+1000\",\"+1000\",\"+1000\",\"+1000\",\"+10mil\",\"+100\",\"+1000\",\"+10mil\",\"+1000\",\"+100\",\"+10mil\",\"+10mil\",\"+1000\",\"+1000\",\"+10mil\",\"+100\",\"+100\",\"+1000\",\"+1000\",\"+100\",\"+50mil\",\"+100\",\"+1000\",\"+1000\",\"+100\",\"+100\",\"+1000\",\"+10mil\",\"+100\",\"+1000\",\"+1000\",\"+100\",\"+50mil\",\"+1000\",\"+10mil\",\"+1000\",\"+1000\",\"+1000\",\"+100\",\"+10mil\",\"+1000\",\"+1000\",\"+1000\",\"+50\",\"+100\",\"+50\",\"+100\",\"+1000\",\"+100\",\"+50\",\"+100\",\"+5\",\"+100\",\"+100\",\"+100\",\"+1000\",\"+100\",\"+25\",\"+1000\",\"+1000\",\"+1000\",\"+100\",\"+1000\",\"+100\",\"+1000\",\"+100\",\"+1000\",\"+100\",\"+100\",\"+1000\",\"+1000\",\"+10mil\",\"+10mil\",\"+100\",\"+100\",\"+100\",\"+50\",\"+100\",\"+50\",\"+1000\",\"+10mil\",\"+50mil\",\"+50\",\"+100\",\"+1000\",\"+10mil\",\"+1000\",\"+100\",\"+100\",\"+10mil\",\"+100\",\"+1000\",\"+100\",\"+1000\",\"+100\",\"+100\",\"+1000\",\"+10mil\",\"+100\",\"+25\",\"+100\",\"+100\",\"+100\",\"+10mil\",\"+1000\",\"+10mil\",\"+100\",\"+1000\",\"+1000\",\"+50\",\"+100\",\"+100\",\"+100\",\"+100\",\"+100\",\"+25\",\"+100\",\"+100\",\"+50\",\"+25\",\"+100\",\"+100\",\"+100\",\"+100\",\"+25\",\"+1000\",\"+1000\",\"+1000\",\"+25\",\"+10mil\",\"+1000\",\"+1000\",\"+100\",\"+100\",\"+10mil\",\"+10mil\",\"+50\",\"+100\",\"+10mil\",\"+50mil\",\"+1000\",\"+50\",\"+100\",\"+100\",\"+100\",\"+10mil\",\"+100\",\"+50\",\"+100\",\"+25\",\"+25\",\"+1000\",\"+100\",\"+10mil\",\"+1000\",\"+25\",\"+1000\",\"+1000\",\"+25\",\"+10mil\",\"+100\",\"+1000\",\"+1000\",\"+10mil\",\"+50\",\"+1000\",\"+1000\",\"+25\",\"+100\",\"+1000\",\"+100\",\"+50\",\"+50\",\"+100\",\"+50\",\"+5\",\"+100\",\"+100\",\"+50\",\"+1000\",\"+1000\",\"+1000\",\"+100\",\"+50\",\"+1000\",\"+100\",\"+1000\",\"+1000\",\"+1000\",\"+10mil\",\"+10mil\",\"+100\",\"+100\",\"+100\",\"+10mil\",\"+50mil\",\"+1000\",\"+100\",\"+1000\",\"+25\",\"+25\",\"+1000\",\"+10mil\",\"+50\",\"+100\",\"+1000\",\"+100\",\"+100\",\"+1000\",\"+1000\",\"+100\",\"+50\",\"+100\",\"+25\",\"+100\",\"+10mil\",\"+100\",\"+1000\",\"+100\",\"+1000\",\"+50\",\"+100\",\"+100\",\"+100\",\"+25\",\"+1000\",\"+100\",\"+25\",\"+100\",\"+100\",\"+1000\",\"+1000\",\"+100\",\"+10mil\",\"+1000\",\"+1000\",\"+100\",\"+100\",\"+100\",\"+25\",\"+1000\",\"+1000\",\"+1000\",\"+1000\",\"+100\",\"+1000\",\"+100\",\"+1000\",\"+10mil\",\"+10mil\",\"+50\",\"+50\",\"+1000\",\"+100\",\"+1000\",\"+10mil\",\"+50mil\",\"+100\",\"+1000\",\"+100\",\"+100\",\"+1000\",\"+10mil\",\"+1000\",\"+1000\",\"+100\",\"+100\",\"+1000\",\"+100\",\"+50\",\"+1000\",\"+1000\",\"+1000\",\"+100\",\"+1000\",\"+50\",\"+10mil\",\"+1000\",\"+50\",\"+10mil\",\"+100\",\"+50\",\"+100\",\"+100\",\"+25\"],\"xaxis\":\"x\",\"y\":[\"Masculino\",\"Masculino\",\"Masculino\",\"Feminino\",\"Sem g\\u00eanero infantil\",\"Masculino\",\"Masculino\",\"Masculino\",\"Masculino\",\"Feminino\",\"Sem g\\u00eanero\",\"Sem g\\u00eanero\",\"Masculino\",\"Meninos\",\"Masculino\",\"Masculino\",\"Masculino\",\"Feminino\",\"Masculino\",\"Masculino\",\"Feminino\",\"Masculino\",\"Feminino\",\"Feminino\",\"Masculino\",\"Masculino\",\"Feminino\",\"Feminino\",\"Masculino\",\"Masculino\",\"Masculino\",\"Masculino\",\"Masculino\",\"Sem g\\u00eanero\",\"Feminino\",\"Masculino\",\"Masculino\",\"Masculino\",\"Feminino\",\"Feminino\",\"Masculino\",\"Feminino\",\"Feminino\",\"Feminino\",\"Masculino\",\"Masculino\",\"Feminino\",\"Masculino\",\"Masculino\",\"Masculino\",\"Sem g\\u00eanero\",\"Feminino\",\"Masculino\",\"Feminino\",\"Feminino\",\"Masculino\",\"Masculino\",\"Masculino\",\"Feminino\",\"Sem g\\u00eanero\",\"Feminino\",\"Masculino\",\"Feminino\",\"Feminino\",\"Masculino\",\"Feminino\",\"Feminino\",\"Masculino\",\"Feminino\",\"Masculino\",\"Sem g\\u00eanero\",\"Meninas\",\"Feminino\",\"Feminino\",\"Feminino\",\"Sem g\\u00eanero\",\"Feminino\",\"Masculino\",\"Feminino\",\"Masculino\",\"Sem g\\u00eanero\",\"Masculino\",\"Masculino\",\"Masculino\",\"Masculino\",\"Sem g\\u00eanero infantil\",\"Masculino\",\"Masculino\",\"Masculino\",\"Sem g\\u00eanero\",\"Masculino\",\"Masculino\",\"Masculino\",\"Feminino\",\"Sem g\\u00eanero\",\"Masculino\",\"Feminino\",\"Feminino\",\"Feminino\",\"Masculino\",\"Meninos\",\"Feminino\",\"Feminino\",\"Feminino\",\"Masculino\",\"Meninos\",\"Feminino\",\"Masculino\",\"Feminino\",\"Masculino\",\"Meninas\",\"Feminino\",\"Masculino\",\"Masculino\",\"Feminino\",\"Feminino\",\"Feminino\",\"Masculino\",\"Feminino\",\"Masculino\",\"Unissex\",\"Feminino\",\"Feminino\",\"Masculino\",\"Sem g\\u00eanero\",\"Meninos\",\"Masculino\",\"Feminino\",\"Feminino\",\"Feminino\",\"Feminino\",\"Feminino\",\"Masculino\",\"Beb\\u00eas\",\"Meninos\",\"Feminino\",\"Masculino\",\"Sem g\\u00eanero\",\"Feminino\",\"Masculino\",\"Masculino\",\"Sem g\\u00eanero\",\"Feminino\",\"Feminino\",\"Masculino\",\"Masculino\",\"roupa para gordinha pluss P ao 52\",\"Feminino\",\"Masculino\",\"Masculino\",\"Sem g\\u00eanero\",\"Feminino\",\"Meninos\",\"Feminino\",\"Feminino\",\"Masculino\",\"Feminino\",\"Masculino\",\"Sem g\\u00eanero\",\"Feminino\",\"Meninos\",\"Feminino\",\"Masculino\",\"Masculino\",\"Masculino\",\"Feminino\",\"Feminino\",\"Feminino\",\"Masculino\",\"Masculino\",\"Feminino\",\"Feminino\",\"Masculino\",\"Masculino\",\"Masculino\",\"Feminino\",\"Feminino\",\"Feminino\",\"Masculino\",\"Masculino\",\"Meninos\",\"Masculino\",\"Masculino\",\"Feminino\",\"Masculino\",\"Feminino\",\"Feminino\",\"Masculino\",\"Masculino\",\"Feminino\",\"Masculino\",\"Sem g\\u00eanero\",\"Feminino\",\"Masculino\",\"Meninos\",\"Feminino\",\"Masculino\",\"Sem g\\u00eanero\",\"Sem g\\u00eanero\",\"Masculino\",\"Masculino\",\"Feminino\",\"Feminino\",\"Feminino\",\"Masculino\",\"Masculino\",\"Sem g\\u00eanero\",\"Feminino\",\"Masculino\",\"Feminino\",\"Feminino\",\"Feminino\",\"Masculino\",\"Feminino\",\"Feminino\",\"Beb\\u00eas\",\"Feminino\",\"Feminino\",\"Feminino\",\"Feminino\",\"Sem g\\u00eanero\",\"Feminino\",\"Sem g\\u00eanero infantil\",\"Feminino\",\"Masculino\",\"Masculino\",\"Feminino\",\"Masculino\",\"Masculino\",\"Masculino\",\"Feminino\",\"Masculino\",\"Masculino\",\"Sem g\\u00eanero\",\"Meninas\",\"Masculino\",\"Feminino\",\"Feminino\",\"Feminino\",\"Feminino\",\"Masculino\",\"Feminino\",\"Masculino\",\"Masculino\",\"Masculino\",\"Masculino\",\"Feminino\",\"Masculino\",\"Masculino\",\"Feminino\",\"Masculino\",\"Feminino\",\"Masculino\",\"Sem g\\u00eanero\",\"Masculino\",\"Masculino\",\"Sem g\\u00eanero\",\"Sem g\\u00eanero\",\"Masculino\",\"Masculino\",\"Feminino\",\"Meninas\",\"Feminino\",\"Meninas\",\"Masculino\",\"Masculino\",\"Masculino\",\"Masculino\",\"Sem g\\u00eanero\",\"Feminino\",\"Feminino\",\"Feminino\",\"Masculino\",\"Masculino\",\"Feminino\",\"Meninas\",\"Meninos\",\"Feminino\",\"Masculino\",\"Meninos\",\"Feminino\",\"Feminino\",\"Masculino\",\"Feminino\",\"Sem g\\u00eanero infantil\",\"Feminino\",\"Masculino\",\"Masculino\",\"Masculino\",\"Masculino\",\"Meninos\",\"Feminino\",\"Meninos\",\"Masculino\",\"Feminino\"],\"yaxis\":\"y\",\"type\":\"bar\"}],                        {\"template\":{\"data\":{\"histogram2dcontour\":[{\"type\":\"histogram2dcontour\",\"colorbar\":{\"outlinewidth\":0,\"ticks\":\"\"},\"colorscale\":[[0.0,\"#0d0887\"],[0.1111111111111111,\"#46039f\"],[0.2222222222222222,\"#7201a8\"],[0.3333333333333333,\"#9c179e\"],[0.4444444444444444,\"#bd3786\"],[0.5555555555555556,\"#d8576b\"],[0.6666666666666666,\"#ed7953\"],[0.7777777777777778,\"#fb9f3a\"],[0.8888888888888888,\"#fdca26\"],[1.0,\"#f0f921\"]]}],\"choropleth\":[{\"type\":\"choropleth\",\"colorbar\":{\"outlinewidth\":0,\"ticks\":\"\"}}],\"histogram2d\":[{\"type\":\"histogram2d\",\"colorbar\":{\"outlinewidth\":0,\"ticks\":\"\"},\"colorscale\":[[0.0,\"#0d0887\"],[0.1111111111111111,\"#46039f\"],[0.2222222222222222,\"#7201a8\"],[0.3333333333333333,\"#9c179e\"],[0.4444444444444444,\"#bd3786\"],[0.5555555555555556,\"#d8576b\"],[0.6666666666666666,\"#ed7953\"],[0.7777777777777778,\"#fb9f3a\"],[0.8888888888888888,\"#fdca26\"],[1.0,\"#f0f921\"]]}],\"heatmap\":[{\"type\":\"heatmap\",\"colorbar\":{\"outlinewidth\":0,\"ticks\":\"\"},\"colorscale\":[[0.0,\"#0d0887\"],[0.1111111111111111,\"#46039f\"],[0.2222222222222222,\"#7201a8\"],[0.3333333333333333,\"#9c179e\"],[0.4444444444444444,\"#bd3786\"],[0.5555555555555556,\"#d8576b\"],[0.6666666666666666,\"#ed7953\"],[0.7777777777777778,\"#fb9f3a\"],[0.8888888888888888,\"#fdca26\"],[1.0,\"#f0f921\"]]}],\"heatmapgl\":[{\"type\":\"heatmapgl\",\"colorbar\":{\"outlinewidth\":0,\"ticks\":\"\"},\"colorscale\":[[0.0,\"#0d0887\"],[0.1111111111111111,\"#46039f\"],[0.2222222222222222,\"#7201a8\"],[0.3333333333333333,\"#9c179e\"],[0.4444444444444444,\"#bd3786\"],[0.5555555555555556,\"#d8576b\"],[0.6666666666666666,\"#ed7953\"],[0.7777777777777778,\"#fb9f3a\"],[0.8888888888888888,\"#fdca26\"],[1.0,\"#f0f921\"]]}],\"contourcarpet\":[{\"type\":\"contourcarpet\",\"colorbar\":{\"outlinewidth\":0,\"ticks\":\"\"}}],\"contour\":[{\"type\":\"contour\",\"colorbar\":{\"outlinewidth\":0,\"ticks\":\"\"},\"colorscale\":[[0.0,\"#0d0887\"],[0.1111111111111111,\"#46039f\"],[0.2222222222222222,\"#7201a8\"],[0.3333333333333333,\"#9c179e\"],[0.4444444444444444,\"#bd3786\"],[0.5555555555555556,\"#d8576b\"],[0.6666666666666666,\"#ed7953\"],[0.7777777777777778,\"#fb9f3a\"],[0.8888888888888888,\"#fdca26\"],[1.0,\"#f0f921\"]]}],\"surface\":[{\"type\":\"surface\",\"colorbar\":{\"outlinewidth\":0,\"ticks\":\"\"},\"colorscale\":[[0.0,\"#0d0887\"],[0.1111111111111111,\"#46039f\"],[0.2222222222222222,\"#7201a8\"],[0.3333333333333333,\"#9c179e\"],[0.4444444444444444,\"#bd3786\"],[0.5555555555555556,\"#d8576b\"],[0.6666666666666666,\"#ed7953\"],[0.7777777777777778,\"#fb9f3a\"],[0.8888888888888888,\"#fdca26\"],[1.0,\"#f0f921\"]]}],\"mesh3d\":[{\"type\":\"mesh3d\",\"colorbar\":{\"outlinewidth\":0,\"ticks\":\"\"}}],\"scatter\":[{\"fillpattern\":{\"fillmode\":\"overlay\",\"size\":10,\"solidity\":0.2},\"type\":\"scatter\"}],\"parcoords\":[{\"type\":\"parcoords\",\"line\":{\"colorbar\":{\"outlinewidth\":0,\"ticks\":\"\"}}}],\"scatterpolargl\":[{\"type\":\"scatterpolargl\",\"marker\":{\"colorbar\":{\"outlinewidth\":0,\"ticks\":\"\"}}}],\"bar\":[{\"error_x\":{\"color\":\"#2a3f5f\"},\"error_y\":{\"color\":\"#2a3f5f\"},\"marker\":{\"line\":{\"color\":\"#E5ECF6\",\"width\":0.5},\"pattern\":{\"fillmode\":\"overlay\",\"size\":10,\"solidity\":0.2}},\"type\":\"bar\"}],\"scattergeo\":[{\"type\":\"scattergeo\",\"marker\":{\"colorbar\":{\"outlinewidth\":0,\"ticks\":\"\"}}}],\"scatterpolar\":[{\"type\":\"scatterpolar\",\"marker\":{\"colorbar\":{\"outlinewidth\":0,\"ticks\":\"\"}}}],\"histogram\":[{\"marker\":{\"pattern\":{\"fillmode\":\"overlay\",\"size\":10,\"solidity\":0.2}},\"type\":\"histogram\"}],\"scattergl\":[{\"type\":\"scattergl\",\"marker\":{\"colorbar\":{\"outlinewidth\":0,\"ticks\":\"\"}}}],\"scatter3d\":[{\"type\":\"scatter3d\",\"line\":{\"colorbar\":{\"outlinewidth\":0,\"ticks\":\"\"}},\"marker\":{\"colorbar\":{\"outlinewidth\":0,\"ticks\":\"\"}}}],\"scattermapbox\":[{\"type\":\"scattermapbox\",\"marker\":{\"colorbar\":{\"outlinewidth\":0,\"ticks\":\"\"}}}],\"scatterternary\":[{\"type\":\"scatterternary\",\"marker\":{\"colorbar\":{\"outlinewidth\":0,\"ticks\":\"\"}}}],\"scattercarpet\":[{\"type\":\"scattercarpet\",\"marker\":{\"colorbar\":{\"outlinewidth\":0,\"ticks\":\"\"}}}],\"carpet\":[{\"aaxis\":{\"endlinecolor\":\"#2a3f5f\",\"gridcolor\":\"white\",\"linecolor\":\"white\",\"minorgridcolor\":\"white\",\"startlinecolor\":\"#2a3f5f\"},\"baxis\":{\"endlinecolor\":\"#2a3f5f\",\"gridcolor\":\"white\",\"linecolor\":\"white\",\"minorgridcolor\":\"white\",\"startlinecolor\":\"#2a3f5f\"},\"type\":\"carpet\"}],\"table\":[{\"cells\":{\"fill\":{\"color\":\"#EBF0F8\"},\"line\":{\"color\":\"white\"}},\"header\":{\"fill\":{\"color\":\"#C8D4E3\"},\"line\":{\"color\":\"white\"}},\"type\":\"table\"}],\"barpolar\":[{\"marker\":{\"line\":{\"color\":\"#E5ECF6\",\"width\":0.5},\"pattern\":{\"fillmode\":\"overlay\",\"size\":10,\"solidity\":0.2}},\"type\":\"barpolar\"}],\"pie\":[{\"automargin\":true,\"type\":\"pie\"}]},\"layout\":{\"autotypenumbers\":\"strict\",\"colorway\":[\"#636efa\",\"#EF553B\",\"#00cc96\",\"#ab63fa\",\"#FFA15A\",\"#19d3f3\",\"#FF6692\",\"#B6E880\",\"#FF97FF\",\"#FECB52\"],\"font\":{\"color\":\"#2a3f5f\"},\"hovermode\":\"closest\",\"hoverlabel\":{\"align\":\"left\"},\"paper_bgcolor\":\"white\",\"plot_bgcolor\":\"#E5ECF6\",\"polar\":{\"bgcolor\":\"#E5ECF6\",\"angularaxis\":{\"gridcolor\":\"white\",\"linecolor\":\"white\",\"ticks\":\"\"},\"radialaxis\":{\"gridcolor\":\"white\",\"linecolor\":\"white\",\"ticks\":\"\"}},\"ternary\":{\"bgcolor\":\"#E5ECF6\",\"aaxis\":{\"gridcolor\":\"white\",\"linecolor\":\"white\",\"ticks\":\"\"},\"baxis\":{\"gridcolor\":\"white\",\"linecolor\":\"white\",\"ticks\":\"\"},\"caxis\":{\"gridcolor\":\"white\",\"linecolor\":\"white\",\"ticks\":\"\"}},\"coloraxis\":{\"colorbar\":{\"outlinewidth\":0,\"ticks\":\"\"}},\"colorscale\":{\"sequential\":[[0.0,\"#0d0887\"],[0.1111111111111111,\"#46039f\"],[0.2222222222222222,\"#7201a8\"],[0.3333333333333333,\"#9c179e\"],[0.4444444444444444,\"#bd3786\"],[0.5555555555555556,\"#d8576b\"],[0.6666666666666666,\"#ed7953\"],[0.7777777777777778,\"#fb9f3a\"],[0.8888888888888888,\"#fdca26\"],[1.0,\"#f0f921\"]],\"sequentialminus\":[[0.0,\"#0d0887\"],[0.1111111111111111,\"#46039f\"],[0.2222222222222222,\"#7201a8\"],[0.3333333333333333,\"#9c179e\"],[0.4444444444444444,\"#bd3786\"],[0.5555555555555556,\"#d8576b\"],[0.6666666666666666,\"#ed7953\"],[0.7777777777777778,\"#fb9f3a\"],[0.8888888888888888,\"#fdca26\"],[1.0,\"#f0f921\"]],\"diverging\":[[0,\"#8e0152\"],[0.1,\"#c51b7d\"],[0.2,\"#de77ae\"],[0.3,\"#f1b6da\"],[0.4,\"#fde0ef\"],[0.5,\"#f7f7f7\"],[0.6,\"#e6f5d0\"],[0.7,\"#b8e186\"],[0.8,\"#7fbc41\"],[0.9,\"#4d9221\"],[1,\"#276419\"]]},\"xaxis\":{\"gridcolor\":\"white\",\"linecolor\":\"white\",\"ticks\":\"\",\"title\":{\"standoff\":15},\"zerolinecolor\":\"white\",\"automargin\":true,\"zerolinewidth\":2},\"yaxis\":{\"gridcolor\":\"white\",\"linecolor\":\"white\",\"ticks\":\"\",\"title\":{\"standoff\":15},\"zerolinecolor\":\"white\",\"automargin\":true,\"zerolinewidth\":2},\"scene\":{\"xaxis\":{\"backgroundcolor\":\"#E5ECF6\",\"gridcolor\":\"white\",\"linecolor\":\"white\",\"showbackground\":true,\"ticks\":\"\",\"zerolinecolor\":\"white\",\"gridwidth\":2},\"yaxis\":{\"backgroundcolor\":\"#E5ECF6\",\"gridcolor\":\"white\",\"linecolor\":\"white\",\"showbackground\":true,\"ticks\":\"\",\"zerolinecolor\":\"white\",\"gridwidth\":2},\"zaxis\":{\"backgroundcolor\":\"#E5ECF6\",\"gridcolor\":\"white\",\"linecolor\":\"white\",\"showbackground\":true,\"ticks\":\"\",\"zerolinecolor\":\"white\",\"gridwidth\":2}},\"shapedefaults\":{\"line\":{\"color\":\"#2a3f5f\"}},\"annotationdefaults\":{\"arrowcolor\":\"#2a3f5f\",\"arrowhead\":0,\"arrowwidth\":1},\"geo\":{\"bgcolor\":\"white\",\"landcolor\":\"#E5ECF6\",\"subunitcolor\":\"white\",\"showland\":true,\"showlakes\":true,\"lakecolor\":\"white\"},\"title\":{\"x\":0.05},\"mapbox\":{\"style\":\"light\"}}},\"xaxis\":{\"anchor\":\"y\",\"domain\":[0.0,1.0],\"title\":{\"text\":\"Qtd_Vendidos\"}},\"yaxis\":{\"anchor\":\"x\",\"domain\":[0.0,1.0],\"title\":{\"text\":\"G\\u00eanero\"}},\"legend\":{\"tracegroupgap\":0},\"title\":{\"text\":\"Vendas por Marca\"},\"barmode\":\"relative\"},                        {\"responsive\": true}                    ).then(function(){\n",
       "                            \n",
       "var gd = document.getElementById('43c4cbec-94ca-48c4-8a97-271e934f66c0');\n",
       "var x = new MutationObserver(function (mutations, observer) {{\n",
       "        var display = window.getComputedStyle(gd).display;\n",
       "        if (!display || display === 'none') {{\n",
       "            console.log([gd, 'removed!']);\n",
       "            Plotly.purge(gd);\n",
       "            observer.disconnect();\n",
       "        }}\n",
       "}});\n",
       "\n",
       "// Listen for the removal of the full notebook cells\n",
       "var notebookContainer = gd.closest('#notebook-container');\n",
       "if (notebookContainer) {{\n",
       "    x.observe(notebookContainer, {childList: true});\n",
       "}}\n",
       "\n",
       "// Listen for the clearing of the current output cell\n",
       "var outputEl = gd.closest('.output');\n",
       "if (outputEl) {{\n",
       "    x.observe(outputEl, {childList: true});\n",
       "}}\n",
       "\n",
       "                        })                };                });            </script>        </div>"
      ]
     },
     "metadata": {},
     "output_type": "display_data"
    }
   ],
   "source": [
    "import plotly.express as px\n",
    "\n",
    "# Criar um gráfico de barras\n",
    "fig = px.bar(df, x='Marca', y='Qtd_Vendidos', title='Vendas por Marca')\n",
    "\n",
    "# Exibir o gráfico no Jupyter Notebook (para teste)\n",
    "fig.show()\n"
   ]
  },
  {
   "cell_type": "code",
   "execution_count": 19,
   "id": "7a74f7fa-f9e6-4f37-aa53-e4d9e6c57ec9",
   "metadata": {},
   "outputs": [
    {
     "data": {
      "text/html": [
       "\n",
       "        <iframe\n",
       "            width=\"100%\"\n",
       "            height=\"650\"\n",
       "            src=\"http://127.0.0.1:8050/\"\n",
       "            frameborder=\"0\"\n",
       "            allowfullscreen\n",
       "            \n",
       "        ></iframe>\n",
       "        "
      ],
      "text/plain": [
       "<IPython.lib.display.IFrame at 0x255db174390>"
      ]
     },
     "metadata": {},
     "output_type": "display_data"
    }
   ],
   "source": [
    "from dash import Dash, dcc, html\n",
    "\n",
    "# Inicializar o aplicativo Dash\n",
    "app = Dash(__name__)\n",
    "\n",
    "# Layout do aplicativo\n",
    "app.layout = html.Div([\n",
    "    html.H1(\"Dashboard de Estatísticas do E-commerce\"),\n",
    "    dcc.Graph(\n",
    "        id='grafico-vendas',\n",
    "        figure=fig  # Utiliza o gráfico criado anteriormente\n",
    "    )\n",
    "])\n",
    "\n",
    "# Executar o servidor\n",
    "if __name__ == '__main__':\n",
    "    app.run_server(debug=True, use_reloader=False)\n"
   ]
  },
  {
   "cell_type": "code",
   "execution_count": null,
   "id": "fef2c5df-d41d-45c8-a78c-76e5e64dd917",
   "metadata": {},
   "outputs": [],
   "source": []
  }
 ],
 "metadata": {
  "kernelspec": {
   "display_name": "Python 3 (ipykernel)",
   "language": "python",
   "name": "python3"
  },
  "language_info": {
   "codemirror_mode": {
    "name": "ipython",
    "version": 3
   },
   "file_extension": ".py",
   "mimetype": "text/x-python",
   "name": "python",
   "nbconvert_exporter": "python",
   "pygments_lexer": "ipython3",
   "version": "3.11.7"
  }
 },
 "nbformat": 4,
 "nbformat_minor": 5
}
